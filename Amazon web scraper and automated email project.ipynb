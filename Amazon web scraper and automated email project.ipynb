{
 "cells": [
  {
   "cell_type": "code",
   "execution_count": 2,
   "id": "8837e619",
   "metadata": {},
   "outputs": [],
   "source": [
    "# import libraries \n",
    "\n",
    "from bs4 import BeautifulSoup\n",
    "import requests\n",
    "import time\n",
    "import datetime\n",
    "import smtplib\n",
    "import ssl\n",
    "import csv\n",
    "import pandas as pd\n"
   ]
  },
  {
   "cell_type": "code",
   "execution_count": 3,
   "id": "15730c0f",
   "metadata": {},
   "outputs": [
    {
     "name": "stdout",
     "output_type": "stream",
     "text": [
      "\n",
      "            Corsair iCUE SP140 RGB PRO, RGB LED, Low-Noise, High Airflow, Case Cooling Fan (Dual Pack), 140 mm\n",
      "           \n",
      "\n",
      "               £37.98\n",
      "              \n"
     ]
    }
   ],
   "source": [
    "#connect to website\n",
    "\n",
    "URL = 'https://www.amazon.co.uk/Corsair-SP140-Low-Noise-Airflow-Cooling/dp/B07VHKJTMV/ref=sr_1_12?crid=1CF1QNHYC39CB&dchild=1&keywords=corsair+fan&qid=1629843012&sprefix=corsai%2Caps%2C181&sr=8-12'\n",
    "\n",
    "\n",
    "headers = {\"User-Agent\": \"Mozilla/5.0 (Windows NT 10.0; Win64; x64) AppleWebKit/537.36 (KHTML, like Gecko) Chrome/92.0.4515.131 Safari/537.36\", \"Accept-Encoding\":\"gzip, deflate\", \"Accept\":\"text/html,application/xhtml+xml,application/xml;q=0.9,*/*;q=0.8\", \"DNT\":\"1\",\"Connection\":\"close\", \"Upgrade-Insecure-Requests\":\"1\"}\n",
    "\n",
    "\n",
    "page = requests.get(URL, headers=headers)\n",
    "\n",
    "\n",
    "#Pull inital data\n",
    "\n",
    "soup1 = BeautifulSoup(page.content, 'html.parser')\n",
    "\n",
    "\n",
    "soup2 = BeautifulSoup(soup1.prettify(), 'html.parser')\n",
    "\n",
    "\n",
    "#Pull specific elements\n",
    "\n",
    "product = soup2.find(id='productTitle').get_text()\n",
    "\n",
    "price = soup2.find(id='priceblock_ourprice').get_text()\n",
    "\n",
    "print(product)\n",
    "print(price)\n",
    "\n"
   ]
  },
  {
   "cell_type": "code",
   "execution_count": 4,
   "id": "f7754ade",
   "metadata": {},
   "outputs": [
    {
     "name": "stdout",
     "output_type": "stream",
     "text": [
      "Corsair iCUE SP140 RGB PRO, RGB LED, Low-Noise, High Airflow, Case Cooling Fan (Dual Pack), 140 mm\n",
      "37.98\n"
     ]
    }
   ],
   "source": [
    "Price = price.strip()[1:]\n",
    "Product = product.strip()\n",
    "\n",
    "print(Product)\n",
    "print(Price)\n"
   ]
  },
  {
   "cell_type": "code",
   "execution_count": 5,
   "id": "44cac49c",
   "metadata": {},
   "outputs": [],
   "source": [
    "#create datestamp\n",
    "\n",
    "Today = datetime.date.today()"
   ]
  },
  {
   "cell_type": "code",
   "execution_count": 6,
   "id": "18a0f72f",
   "metadata": {},
   "outputs": [],
   "source": [
    "#layout of the CSV\n",
    "header = ['Product', 'Price', 'Date']\n",
    "data = [Product, Price, Today]\n",
    "\n",
    "#creating CSV and writing the header and data\n",
    "\n",
    "#with open('AmazonWebScrapperData.csv', 'w', newline='', encoding='UTF8') as f:\n",
    " #   writer = csv.writer(f)\n",
    "  #  writer.writerow(header)\n",
    "   # writer.writerow(data)\n",
    "    \n",
    "    \n",
    "    "
   ]
  },
  {
   "cell_type": "code",
   "execution_count": 8,
   "id": "c5ab9bad",
   "metadata": {},
   "outputs": [
    {
     "name": "stdout",
     "output_type": "stream",
     "text": [
      "                                             Product  Price        Date\n",
      "0  Corsair iCUE SP140 RGB PRO, RGB LED, Low-Noise...  37.98  2021-08-25\n",
      "1  Corsair iCUE SP140 RGB PRO, RGB LED, Low-Noise...  37.98  2021-08-25\n",
      "2  Corsair iCUE SP140 RGB PRO, RGB LED, Low-Noise...  37.98  2021-08-25\n",
      "3  Corsair iCUE SP140 RGB PRO, RGB LED, Low-Noise...  37.98  2021-08-25\n",
      "4  Corsair iCUE SP140 RGB PRO, RGB LED, Low-Noise...  37.98  2021-08-25\n",
      "5  Corsair iCUE SP140 RGB PRO, RGB LED, Low-Noise...  37.98  2021-08-26\n"
     ]
    }
   ],
   "source": [
    "df = pd.read_csv(r'C:\\Users\\User\\AmazonWebScrapperData.csv')\n",
    "\n",
    "print(df)\n",
    "\n"
   ]
  },
  {
   "cell_type": "code",
   "execution_count": 7,
   "id": "ed936a84",
   "metadata": {},
   "outputs": [],
   "source": [
    "#Appending data to the CSV\n",
    "\n",
    "with open('AmazonWebScrapperData.csv', 'a+', newline='', encoding='UTF8') as f:\n",
    "    writer = csv.writer(f)\n",
    "    writer.writerow(data)\n",
    "    "
   ]
  },
  {
   "cell_type": "code",
   "execution_count": 9,
   "id": "678ba758",
   "metadata": {},
   "outputs": [],
   "source": [
    "# Sending myself an email when a price hits below a certain level\n",
    "# out with this script\n",
    "def send_mail():\n",
    "    server = smtplib.SMTP_SSL('smtp.gmail.com',465)\n",
    "    server.ehlo()\n",
    "    #server.starttls()\n",
    "    server.ehlo()\n",
    "    server.login('Email','Password')\n",
    "    \n",
    "    subject = \"The Fan you want is below 40! Now is your chance to buy!\"\n",
    "    body = \"Branden, This is the moment we have been waiting for. Now is your chance to pick up the Fans. Don't mess it up! Link here: https://www.amazon.co.uk/Corsair-SP140-Low-Noise-Airflow-Cooling/dp/B07VHKJTMV/ref=sr_1_12?crid=1CF1QNHYC39CB&dchild=1&keywords=corsair+fan&qid=1629843012&sprefix=corsai%2Caps%2C181&sr=8-12\"\n",
    "   \n",
    "    msg = f\"Subject: {subject}\\n\\n{body}\"\n",
    "    \n",
    "    server.sendmail(\n",
    "        'brandenmillward@gmail.com', 'brandenmillward@gmail.com'\n",
    "        ,msg\n",
    ")  "
   ]
  },
  {
   "cell_type": "code",
   "execution_count": 10,
   "id": "349340a5",
   "metadata": {},
   "outputs": [],
   "source": [
    "def check_price():\n",
    "    #connect to website\n",
    "\n",
    "    URL = 'https://www.amazon.co.uk/Corsair-SP140-Low-Noise-Airflow-Cooling/dp/B07VHKJTMV/ref=sr_1_12?crid=1CF1QNHYC39CB&dchild=1&keywords=corsair+fan&qid=1629843012&sprefix=corsai%2Caps%2C181&sr=8-12'\n",
    "\n",
    "    headers = {\"User-Agent\": \"Mozilla/5.0 (Windows NT 10.0; Win64; x64) AppleWebKit/537.36 (KHTML, like Gecko) Chrome/92.0.4515.131 Safari/537.36\", \"Accept-Encoding\":\"gzip, deflate\", \"Accept\":\"text/html,application/xhtml+xml,application/xml;q=0.9,*/*;q=0.8\", \"DNT\":\"1\",\"Connection\":\"close\", \"Upgrade-Insecure-Requests\":\"1\"}\n",
    "\n",
    "    page = requests.get(URL, headers=headers)\n",
    "\n",
    "    #Pull inital data\n",
    "\n",
    "    soup1 = BeautifulSoup(page.content, 'html.parser')\n",
    "\n",
    "    soup2 = BeautifulSoup(soup1.prettify(), 'html.parser')\n",
    "\n",
    "    #Pull specific elements\n",
    "\n",
    "    product = soup2.find(id='productTitle').get_text()\n",
    "\n",
    "    price = soup2.find(id='priceblock_ourprice').get_text()\n",
    "    \n",
    "    Price = price.strip()[1:]\n",
    "    Product = product.strip()\n",
    "    Today = datetime.date.today()\n",
    "    \n",
    "    #layout of the CSV\n",
    "    header = ['Product', 'Price', 'Date']\n",
    "    data = [Product, Price, Today]\n",
    "    \n",
    "    #Appending data to the CSV\n",
    "\n",
    "    with open('AmazonWebScrapperData.csv', 'a+', newline='', encoding='UTF8') as f:\n",
    "        writer = csv.writer(f)\n",
    "        writer.writerow(data)\n",
    "        \n",
    "    if(float(Price) < 40):\n",
    "        send_mail()\n",
    "    \n",
    "check_price()    "
   ]
  },
  {
   "cell_type": "code",
   "execution_count": null,
   "id": "f3d5352c",
   "metadata": {},
   "outputs": [],
   "source": [
    "#set a timer\n",
    "while(True):\n",
    "    check_price()\n",
    "    time.sleep(84600)"
   ]
  },
  {
   "cell_type": "code",
   "execution_count": null,
   "id": "b6fe7e65",
   "metadata": {},
   "outputs": [],
   "source": [
    "df = pd.read_csv(r'C:\\Users\\User\\AmazonWebScrapperData.csv')\n",
    "\n",
    "print(df)"
   ]
  }
 ],
 "metadata": {
  "kernelspec": {
   "display_name": "Python 3",
   "language": "python",
   "name": "python3"
  },
  "language_info": {
   "codemirror_mode": {
    "name": "ipython",
    "version": 3
   },
   "file_extension": ".py",
   "mimetype": "text/x-python",
   "name": "python",
   "nbconvert_exporter": "python",
   "pygments_lexer": "ipython3",
   "version": "3.8.8"
  }
 },
 "nbformat": 4,
 "nbformat_minor": 5
}
